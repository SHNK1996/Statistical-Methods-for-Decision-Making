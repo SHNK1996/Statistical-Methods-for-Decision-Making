{
 "cells": [
  {
   "cell_type": "code",
   "execution_count": null,
   "id": "e1ed531a",
   "metadata": {},
   "outputs": [],
   "source": [
    "import pandas as pd\n",
    "import numpy as np\n",
    "import matplotlib.pyplot as plt\n",
    "import seaborn as sns\n",
    "%matplotlib inline\n",
    "whl_dist=pd.read_csv(\"Wholesale+Customers+Data.csv\")\n",
    "whl_dist\n",
    "c=whl_dist\n",
    "c\n",
    "# whl_dist.describe-()\n",
    "c['total_Spend']=c.iloc[:,-8:].sum(axis=1) #Calculating the value for \n",
    "c\n",
    "f=c.describe()\n",
    "f\n",
    "\n",
    "# f.reset_index(inplace=True)\n",
    "# df = f.rename(columns = {'index':'Descriptive'})\n",
    "# # df\n",
    "\n"
   ]
  },
  {
   "cell_type": "code",
   "execution_count": null,
   "id": "d5376a35",
   "metadata": {},
   "outputs": [],
   "source": [
    "sns.barplot(y='total_Spend',x='Descriptive', data=df)"
   ]
  },
  {
   "cell_type": "code",
   "execution_count": null,
   "id": "8caeccd2",
   "metadata": {},
   "outputs": [],
   "source": [
    "# whl_dist.describe(include='all')\n",
    "   \n",
    "# printing single line data from the dataframe, showing the Region and Channel spent the most.\n",
    "\n",
    "c['total_Spend']=c.iloc[:,-8:].sum(axis=1) #Calculating the value for \n",
    "c\n",
    "pd.set_option('display.max_rows',500)\n",
    "c.head(500)\n"
   ]
  },
  {
   "cell_type": "code",
   "execution_count": null,
   "id": "a7a4acbc",
   "metadata": {},
   "outputs": [],
   "source": [
    "# 1.1.2 Which Region and which Channel spent the most?\n",
    "\n",
    "t=c[c['total_Spend'] == 199891]\n",
    "t\n"
   ]
  },
  {
   "cell_type": "code",
   "execution_count": null,
   "id": "e2ae417d",
   "metadata": {},
   "outputs": [],
   "source": [
    "# 1.1.3 Which Region and which Channel spent the least?\n",
    "d=c[c[\"total_Spend\"] == 904]\n",
    "d"
   ]
  },
  {
   "cell_type": "code",
   "execution_count": null,
   "id": "5e8d92a3",
   "metadata": {},
   "outputs": [],
   "source": [
    "#1.2 There are 6 different varieties of items that are considered. Describe and comment/explain all the varieties across Region and Channel? Provide a detailed justification for your answer.\n",
    "import scipy.stats as sp\n",
    "whl_dist\n",
    "y=whl_dist\n",
    "y\n",
    "\n",
    "# pd.set_option('display.max_rows',500)\n",
    "# r.head(500) \n",
    "\n",
    "\n",
    "print(\n",
    "\"Coefficient of Variation of Fresh is\",sp.variation (y['Fresh'])   \n",
    ")\n",
    "\n",
    "print(\n",
    "\"Coefficient of Variation of Milk is\",sp.variation (y['Milk'])   \n",
    ")\n",
    "\n",
    "print(\n",
    "\"Coefficient of Variation of Grocery is\",sp.variation (y['Grocery'])   \n",
    ")\n",
    "print(\n",
    "\"Coefficient of Variation of Frozen is\",sp.variation (y['Frozen'])   \n",
    ")\n",
    "print(\n",
    "\"Coefficient of Variation of Detergents_Paper is\",sp.variation (y['Detergents_Paper']) \n",
    ")\n",
    "\n",
    "print(\n",
    "\"Coefficient of Variation of Delicatessen is\",sp.variation (y['Delicatessen']) \n",
    ")\n"
   ]
  },
  {
   "cell_type": "code",
   "execution_count": null,
   "id": "64201c9e",
   "metadata": {},
   "outputs": [],
   "source": [
    "# 1.3 On the basis of a descriptive measure of variability, which item shows the most inconsistent behaviour? \n",
    "# Which items show the least inconsistent behaviour?\n",
    "\n",
    "r=y[ ['Fresh','Milk', 'Grocery','Frozen','Detergents_Paper','Delicatessen']]\n",
    "r.plot(kind='box',figsize=(20,10))\n",
    "# plt.xlabel('Variabilities')\n",
    "# print(sns.boxplot(x=y['Fresh'],width=0.5))"
   ]
  },
  {
   "cell_type": "code",
   "execution_count": null,
   "id": "dab1d1c7",
   "metadata": {},
   "outputs": [],
   "source": [
    "print(sns.boxplot(x=y['Fresh'],width=0.6))"
   ]
  },
  {
   "cell_type": "code",
   "execution_count": null,
   "id": "da7dbcd4",
   "metadata": {},
   "outputs": [],
   "source": [
    "print(sns.boxplot(x=y['Grocery'],width=0.5))"
   ]
  },
  {
   "cell_type": "code",
   "execution_count": null,
   "id": "9e09916f",
   "metadata": {},
   "outputs": [],
   "source": [
    "print(sns.boxplot(x=y['Frozen']))"
   ]
  },
  {
   "cell_type": "code",
   "execution_count": null,
   "id": "29a81f59",
   "metadata": {},
   "outputs": [],
   "source": [
    "print(sns.boxplot(x=y['Detergents_Paper'], whis=1.5))"
   ]
  },
  {
   "cell_type": "code",
   "execution_count": null,
   "id": "9dddb168",
   "metadata": {},
   "outputs": [],
   "source": [
    "print(sns.boxplot(x=y['Delicatessen'],whis=0.6))"
   ]
  },
  {
   "cell_type": "code",
   "execution_count": null,
   "id": "76489d83",
   "metadata": {},
   "outputs": [],
   "source": [
    "# PROBLEM -2 = SURVEY\n",
    "# The Student News Service at Clear Mountain State University (CMSU) has decided to gather data about the\n",
    "# undergraduate students that attend CMSU. CMSU creates and distributes a survey of 14 questions and receives \n",
    "# responses from 62 undergraduates.\n",
    "# 2.1. For this data, construct the following contingency tables (Keep Gender as row variable)\n",
    "\n",
    "# 2.1.1. Gender and Major\n",
    "\n",
    "# 2.1.2. Gender and Grad Intention\n",
    "\n",
    "# 2.1.3. Gender and Employment\n",
    "\n",
    "# 2.1.4. Gender and Computer\n",
    "\n",
    "import pandas as pd\n",
    "df = pd.read_csv(\"survey01.csv\")\n",
    "df"
   ]
  },
  {
   "cell_type": "code",
   "execution_count": null,
   "id": "e6d12256",
   "metadata": {},
   "outputs": [],
   "source": [
    "pd.crosstab(df.Gender,df[\"Grad Intention\"])"
   ]
  },
  {
   "cell_type": "code",
   "execution_count": null,
   "id": "8b7aae5b",
   "metadata": {},
   "outputs": [],
   "source": [
    "pd.crosstab(df.Gender,df.Employment)"
   ]
  },
  {
   "cell_type": "code",
   "execution_count": null,
   "id": "0e76b8da",
   "metadata": {},
   "outputs": [],
   "source": [
    "pd.crosstab(df.Gender,df.Computer)"
   ]
  },
  {
   "cell_type": "code",
   "execution_count": null,
   "id": "eff1889a",
   "metadata": {},
   "outputs": [],
   "source": [
    "# 2.2. Assume that the sample is representative of the population of CMSU. Based on the data, answer the following question:\n",
    "\n",
    "# 2.2.1. What is the probability that a randomly selected CMSU student will be male?\n",
    "\n",
    "print(pd.crosstab(df.Gender,df.Class,margins=True) # just finding the total number of the male and total students.\n",
    "     )\n",
    "print(\"total number of the male divided by the total students is\",29/62)\n",
    "print(\"total number of the female divided by the total students is\",33/62) "
   ]
  },
  {
   "cell_type": "code",
   "execution_count": null,
   "id": "5588471e",
   "metadata": {},
   "outputs": [],
   "source": [
    "# 2.2.2. What is the probability that a randomly selected CMSU student will be female?\n",
    "print(\"Total number of the female divided by the total students is\",33/62) "
   ]
  },
  {
   "cell_type": "code",
   "execution_count": null,
   "id": "ac0ab447",
   "metadata": {},
   "outputs": [],
   "source": [
    "# 2.3. Assume that the sample is representative of the population of CMSU. Based on the data, answer the following question:\n",
    "\n",
    "# 2.3.1. Find the conditional probability of different majors among the male students in CMSU.\n",
    "pd.crosstab(df.Gender,df.Major,margins=True)\n"
   ]
  },
  {
   "cell_type": "code",
   "execution_count": null,
   "id": "3288098c",
   "metadata": {},
   "outputs": [],
   "source": [
    "print(\"Probability of male candidate in the Accounting Major is\", 4/29 * 100 , \"%\" )\n",
    "print(\"Probability of male candidate in the CIS Major is\", 1/29* 100 , \"%\"  )\n",
    "print(\"Probability of male candidate in the Economics/Finance Major is\", 4/29* 100 , \"%\"   )\n",
    "print(\"Probability of male candidate in the International Business Major is\", 2/29* 100 , \"%\"   )\n",
    "print(\"Probability of male candidate in the Management Major is\", 6/29* 100 , \"%\"  )\n",
    "print(\"Probability of male candidate in the Other Major is\", 4/29* 100 , \"%\"  )\n",
    "print(\"Probability of male candidate in the Retailing/Marketing Major is\", 5/29* 100 , \"%\"  )\n",
    "print(\"Probability of male candidate in the Undecided Major is\", 3/29* 100 , \"%\"  )"
   ]
  },
  {
   "cell_type": "code",
   "execution_count": null,
   "id": "c97ce607",
   "metadata": {},
   "outputs": [],
   "source": [
    "# 2.3.2 Find the conditional probability of different majors among the female students of CMSU.\n",
    "\n",
    "print(\"Probability of female candidate in the Accounting Major is\", 3/33 * 100 , \"%\" )\n",
    "print(\"Probability of female candidate in the CIS Major is\", 3/33* 100 , \"%\"  )\n",
    "print(\"Probability of female candidate in the Economics/Finance Major is\", 7/33* 100 , \"%\"   )\n",
    "print(\"Probability of female candidate in the International Business Major is\", 4/33* 100 , \"%\"   )\n",
    "print(\"Probability of female candidate in the Management Major is\", 4/33 * 100 , \"%\"  )\n",
    "print(\"Probability of female candidate in the Other Major is\", 3/33* 100 , \"%\"  )\n",
    "print(\"Probability of female candidate in the Retailing/Marketing Major is\", 9/33* 100 , \"%\"  )\n",
    "print(\"Probability of female candidate in the Undecided Major is\", 0/33 * 100 , \"%\"  )\n"
   ]
  },
  {
   "cell_type": "code",
   "execution_count": null,
   "id": "0d0dcf7d",
   "metadata": {},
   "outputs": [],
   "source": [
    "# 2.4. Assume that the sample is a representative of the population of CMSU. Based on the data, answer the following question:\n",
    "\n",
    "# 2.4.1. Find the probability That a randomly chosen student is a male and intends to graduate.\n",
    "\n",
    "\n",
    "pd.crosstab(df.Gender,df['Grad Intention'],margins=True)\n"
   ]
  },
  {
   "cell_type": "code",
   "execution_count": null,
   "id": "9f09ec64",
   "metadata": {},
   "outputs": [],
   "source": [
    "print(\"Probability of a male get choosen randomly and intends to graduate is\" , 17/29 * 100)"
   ]
  },
  {
   "cell_type": "code",
   "execution_count": null,
   "id": "236a9b4c",
   "metadata": {},
   "outputs": [],
   "source": [
    "# 2.4.2 Find the probability that a randomly selected student is a female and does NOT have a laptop. \n",
    "\n",
    "pd.crosstab(df.Gender,df.Computer,margins=True)\n"
   ]
  },
  {
   "cell_type": "code",
   "execution_count": null,
   "id": "8d1bce15",
   "metadata": {},
   "outputs": [],
   "source": [
    "print(\"Probability that a randomly selected student is a female and does NOT have a laptop\", (2+2)/33*100, \"%\")"
   ]
  },
  {
   "cell_type": "code",
   "execution_count": null,
   "id": "a24e13cb",
   "metadata": {},
   "outputs": [],
   "source": [
    "# 2.5. Assume that the sample is representative of the population of CMSU. Based on the data, answer the following question:\n",
    "\n",
    "# 2.5.1. Find the probability that a randomly chosen student is a male or has full-time employment?\n",
    "\n",
    "pd.crosstab(df.Gender,df.Employment,margins=True)\n"
   ]
  },
  {
   "cell_type": "code",
   "execution_count": null,
   "id": "018f7e90",
   "metadata": {},
   "outputs": [],
   "source": [
    "print(\"Probability that a randomly chosen student is a male\", 29/62*100 , \"%\")\n",
    "print(\"Probability that a randomly chosen student has full-time employment\",10/62*100, \"%\" )"
   ]
  },
  {
   "cell_type": "code",
   "execution_count": null,
   "id": "92d53d96",
   "metadata": {},
   "outputs": [],
   "source": [
    "# 2.5.2. Find the conditional probability that given a female student is randomly chosen, she is majoring in international business or management.\n",
    "\n",
    "pd.crosstab(df.Gender,df.Major,margins=True)"
   ]
  },
  {
   "cell_type": "code",
   "execution_count": null,
   "id": "209ed010",
   "metadata": {},
   "outputs": [],
   "source": [
    "print(\"Conditional probability that given a female student is randomly chosen, she is majoring in international business or management\", (4+4)/33*100, \"%\")"
   ]
  },
  {
   "cell_type": "code",
   "execution_count": null,
   "id": "9145b9ec",
   "metadata": {},
   "outputs": [],
   "source": [
    "# 2.6.  Construct a contingency table of Gender and Intent to Graduate at 2 levels (Yes/No). The Undecided students are not considered now and the table is a 2x2 table. Do you think the graduate intention and being female are independent events?\n",
    "\n",
    "A=pd.crosstab(df.Gender,df['Grad Intention'])\n",
    "A\n",
    "del A['Undecided'] # deleting the column undecided.\n",
    "\n",
    "A\n",
    "\n",
    "\n",
    "A.loc['Row_Total']= A.sum(numeric_only=True, axis=0)\n",
    "A.loc[:,'Column_Total'] = A.sum(numeric_only=True, axis=1)\n",
    "\n",
    "print(A)\n",
    "\n",
    "print(\"Probability of female get selected randomly\", 20/40*100 , \"%\")\n",
    "print(\"Probability of female intend to graduate\", 11/20*100 , \"%\")"
   ]
  },
  {
   "cell_type": "code",
   "execution_count": null,
   "id": "6a5258a9",
   "metadata": {},
   "outputs": [],
   "source": [
    "# 2.7. Note that there are four numerical (continuous) variables in the data set, GPA, Salary, Spending, and Text Messages.\n",
    "\n",
    "# Answer the following questions based on the data\n",
    "\n",
    "# 2.7.1. If a student is chosen randomly, what is the probability that his/her GPA is less than 3?\n",
    "\n",
    "pd.crosstab(df.Gender,df.GPA,margins=True)\n",
    "\n"
   ]
  },
  {
   "cell_type": "code",
   "execution_count": null,
   "id": "c370a0d8",
   "metadata": {},
   "outputs": [],
   "source": [
    "print(\"Probability of getting randomly select a student as his/her GPA can be less than 3 :-\",17/62*100, \"%\")"
   ]
  },
  {
   "cell_type": "code",
   "execution_count": null,
   "id": "4ad65a5b",
   "metadata": {},
   "outputs": [],
   "source": [
    "# 2.7.2. Find the conditional probability that a randomly selected male earns 50 or more. Find the conditional probability that a randomly selected female earns 50 or more.\n",
    "pd.crosstab(df.Gender,df.Salary,margins=True)\n"
   ]
  },
  {
   "cell_type": "code",
   "execution_count": null,
   "id": "656f7b5d",
   "metadata": {},
   "outputs": [],
   "source": [
    "print(\"Conditional probability that a randomly selected male earns 50 or more\", 14/29*100,\"%\")\n",
    "print(\"Conditional probability that a randomly selected female earns 50 or more\",18/33*100,\"%\")"
   ]
  },
  {
   "cell_type": "code",
   "execution_count": null,
   "id": "344f9784",
   "metadata": {},
   "outputs": [],
   "source": [
    "# 2.8. Note that there are four numerical (continuous) variables in the data set, GPA, Salary, Spending, and Text Messages. For each of them comment whether they follow a normal distribution. Write a note summarizing your conclusions.\n",
    "\n",
    "import seaborn as sns\n",
    "%matplotlib inline\n",
    "from scipy import stats\n",
    "import scipy as scipy\n",
    "import numpy as np\n",
    "import matplotlib.pyplot as plt\n",
    "\n",
    "df = pd.read_csv(\"survey01.csv\")"
   ]
  },
  {
   "cell_type": "code",
   "execution_count": null,
   "id": "de2edc49",
   "metadata": {},
   "outputs": [],
   "source": [
    "stats.probplot(df[\"GPA\"],plot=plt)\n",
    "sns.distplot(df[\"GPA\"])"
   ]
  },
  {
   "cell_type": "code",
   "execution_count": null,
   "id": "8c8cc292",
   "metadata": {},
   "outputs": [],
   "source": [
    "stats.probplot(df[\"Salary\"],plot=plt)\n",
    "sns.distplot(df[\"Salary\"])"
   ]
  },
  {
   "cell_type": "code",
   "execution_count": null,
   "id": "9f13e0b5",
   "metadata": {},
   "outputs": [],
   "source": [
    "stats.probplot(df[\"Spending\"],plot=plt)\n",
    "sns.distplot(df[\"Spending\"])\n"
   ]
  },
  {
   "cell_type": "code",
   "execution_count": null,
   "id": "5ab5cf7d",
   "metadata": {},
   "outputs": [],
   "source": [
    "stats.probplot(df[\"Text Messages\"],plot=plt)\n",
    "sns.distplot(df[\"Text Messages\"])"
   ]
  },
  {
   "cell_type": "code",
   "execution_count": null,
   "id": "e37081cd",
   "metadata": {},
   "outputs": [],
   "source": [
    "# Problem 3"
   ]
  },
  {
   "cell_type": "code",
   "execution_count": null,
   "id": "c19ef02b",
   "metadata": {},
   "outputs": [],
   "source": []
  },
  {
   "cell_type": "code",
   "execution_count": null,
   "id": "213ae128",
   "metadata": {},
   "outputs": [],
   "source": []
  },
  {
   "cell_type": "code",
   "execution_count": null,
   "id": "bcfdefae",
   "metadata": {},
   "outputs": [],
   "source": []
  }
 ],
 "metadata": {
  "kernelspec": {
   "display_name": "Python 3",
   "language": "python",
   "name": "python3"
  },
  "language_info": {
   "codemirror_mode": {
    "name": "ipython",
    "version": 3
   },
   "file_extension": ".py",
   "mimetype": "text/x-python",
   "name": "python",
   "nbconvert_exporter": "python",
   "pygments_lexer": "ipython3",
   "version": "3.8.8"
  }
 },
 "nbformat": 4,
 "nbformat_minor": 5
}
